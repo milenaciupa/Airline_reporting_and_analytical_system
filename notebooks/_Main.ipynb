{
 "cells": [
  {
   "cell_type": "code",
   "execution_count": null,
   "id": "32b0c5a5",
   "metadata": {},
   "outputs": [],
   "source": [
    "%run \"01_Initializing_the_database.ipynb\""
   ]
  },
  {
   "cell_type": "code",
   "execution_count": null,
   "id": "dd2a9248",
   "metadata": {},
   "outputs": [],
   "source": [
    "%run \"02_Database.ipynb\""
   ]
  },
  {
   "cell_type": "code",
   "execution_count": null,
   "id": "64b63f81",
   "metadata": {},
   "outputs": [],
   "source": [
    "%run \"03_Data_analysis_01.ipynb\""
   ]
  },
  {
   "cell_type": "code",
   "execution_count": null,
   "id": "c2ad54fd",
   "metadata": {},
   "outputs": [],
   "source": [
    "%run \"03_Data_analysis_02.ipynb\""
   ]
  },
  {
   "cell_type": "code",
   "execution_count": null,
   "id": "d11468dc",
   "metadata": {},
   "outputs": [],
   "source": [
    "%run \"03_Data_analysis_03.ipynb\""
   ]
  },
  {
   "cell_type": "code",
   "execution_count": null,
   "id": "978fd8d1",
   "metadata": {},
   "outputs": [],
   "source": [
    "%run \"04_Reporting_scheme.ipynb\""
   ]
  },
  {
   "cell_type": "code",
   "execution_count": null,
   "id": "8c0111da",
   "metadata": {},
   "outputs": [],
   "source": [
    "%run \"05_Dashboard.ipynb\""
   ]
  },
  {
   "cell_type": "code",
   "execution_count": null,
   "id": "bd913afc",
   "metadata": {},
   "outputs": [],
   "source": [
    "%run \"06_Modeling.ipynb\""
   ]
  }
 ],
 "metadata": {
  "kernelspec": {
   "display_name": "Python 3 (ipykernel)",
   "language": "python",
   "name": "python3"
  },
  "language_info": {
   "codemirror_mode": {
    "name": "ipython",
    "version": 3
   },
   "file_extension": ".py",
   "mimetype": "text/x-python",
   "name": "python",
   "nbconvert_exporter": "python",
   "pygments_lexer": "ipython3",
   "version": "3.9.12"
  }
 },
 "nbformat": 4,
 "nbformat_minor": 5
}
