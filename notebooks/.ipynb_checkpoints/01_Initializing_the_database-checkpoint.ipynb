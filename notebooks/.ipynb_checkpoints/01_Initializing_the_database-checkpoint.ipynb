{
 "cells": [
  {
   "cell_type": "markdown",
   "metadata": {},
   "source": [
    " # Description\n",
    " Using this notebook, our target database was built automatically. Thanks to this, we no longer have to worry about rebuilding it manually - if necessary, just turn on the notebook. By creating another notebook, we will ensure that the tables also include data needed for subsequent analysis and used in reporting.\n",
    " The file with the database structure is in the folder`sql/database_schema.sql`."
   ]
  },
  {
   "cell_type": "code",
   "execution_count": 5,
   "metadata": {},
   "outputs": [],
   "source": [
    "from psycopg2 import connect\n",
    "import psycopg2\n",
    "import psycopg2.extras"
   ]
  },
  {
   "cell_type": "markdown",
   "metadata": {},
   "source": [
    " ## Connection to the database"
   ]
  },
  {
   "cell_type": "code",
   "execution_count": 6,
   "metadata": {},
   "outputs": [],
   "source": [
    "username = 'postgres'\n",
    "password = 'password'\n",
    "\n",
    "host = 'localhost'\n",
    "database = 'airlines'\n",
    "port = 5432"
   ]
  },
  {
   "cell_type": "code",
   "execution_count": 7,
   "metadata": {},
   "outputs": [],
   "source": [
    "con = connect(\n",
    "    user=username,\n",
    "    password=password,\n",
    "    host=host,\n",
    "    database=database,\n",
    "    port = port\n",
    ")\n",
    "con.set_isolation_level(psycopg2.extensions.ISOLATION_LEVEL_AUTOCOMMIT)\n",
    "\n",
    "cursor = con.cursor()"
   ]
  },
  {
   "cell_type": "markdown",
   "metadata": {},
   "source": [
    " ## File loading `database_schema.sql`\n"
   ]
  },
  {
   "cell_type": "code",
   "execution_count": 8,
   "metadata": {},
   "outputs": [],
   "source": [
    "with open('../sql/database_schema.sql') as f:\n",
    "    data = f.read()"
   ]
  },
  {
   "cell_type": "code",
   "execution_count": 9,
   "metadata": {},
   "outputs": [],
   "source": [
    "queries = data.split(';')"
   ]
  },
  {
   "cell_type": "code",
   "execution_count": 10,
   "metadata": {},
   "outputs": [],
   "source": [
    "for query in queries:\n",
    "    cursor.execute(query)"
   ]
  },
  {
   "cell_type": "code",
   "execution_count": 11,
   "metadata": {},
   "outputs": [],
   "source": [
    "con.commit() "
   ]
  },
  {
   "cell_type": "markdown",
   "metadata": {},
   "source": [
    " ### Checking"
   ]
  },
  {
   "cell_type": "code",
   "execution_count": 14,
   "metadata": {},
   "outputs": [],
   "source": [
    "def check_if_table_exists(table_name):\n",
    "    msg = f\"I check if the table exists {table_name}\"\n",
    "    print(msg)\n",
    "\n",
    "    query = f\"select 1 from {table_name}\"\n",
    "    cursor.execute(query)\n",
    "    print('OK!')\n"
   ]
  },
  {
   "cell_type": "code",
   "execution_count": 15,
   "metadata": {},
   "outputs": [],
   "source": [
    "tables_to_test = [\n",
    "    'aircraft',\n",
    "    'airport_weather',\n",
    "    'flight',\n",
    "    'airport_list'\n",
    "]"
   ]
  },
  {
   "cell_type": "code",
   "execution_count": 16,
   "metadata": {},
   "outputs": [
    {
     "name": "stdout",
     "output_type": "stream",
     "text": [
      "I check if the table exists aircraft\n",
      "OK!\n",
      "I check if the table exists airport_weather\n",
      "OK!\n",
      "I check if the table exists flight\n",
      "OK!\n",
      "I check if the table exists airport_list\n",
      "OK!\n"
     ]
    }
   ],
   "source": [
    "for table in tables_to_test:\n",
    "    check_if_table_exists(table)"
   ]
  },
  {
   "cell_type": "code",
   "execution_count": 17,
   "metadata": {},
   "outputs": [
    {
     "name": "stdout",
     "output_type": "stream",
     "text": [
      "Everything looks good OK :)\n"
     ]
    }
   ],
   "source": [
    "con.close()\n",
    "msg = \"Everything looks good OK :)\"\n",
    "print(msg)"
   ]
  }
 ],
 "metadata": {
  "kernelspec": {
   "display_name": "Python 3 (ipykernel)",
   "language": "python",
   "name": "python3"
  },
  "language_info": {
   "codemirror_mode": {
    "name": "ipython",
    "version": 3
   },
   "file_extension": ".py",
   "mimetype": "text/x-python",
   "name": "python",
   "nbconvert_exporter": "python",
   "pygments_lexer": "ipython3",
   "version": "3.9.12"
  },
  "vscode": {
   "interpreter": {
    "hash": "9b2e3ed8f662d376c33c57cbfb268747fd53751e2c8e228ca6074e1644efdc03"
   }
  }
 },
 "nbformat": 4,
 "nbformat_minor": 2
}
