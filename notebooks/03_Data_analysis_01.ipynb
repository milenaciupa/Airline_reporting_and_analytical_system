{
 "cells": [
  {
   "cell_type": "markdown",
   "metadata": {
    "id": "58ZUD24sfPTL"
   },
   "source": [
    " # Description\n",
    " After downloading data from an external website and then loading it into our internal database, it is time to analyze and explore it.\n",
    "  Since we assume that we are working with this set for the first time, it is worth reviewing it from a fairly broad angle to become aware of what information is hidden there and what constitutes potential business value.\n",
    "\n",
    "  We will start the exploration from the central `flight` database, in which we will focus in particular on the `dep_delay` variable (according to the documentation at \n",
    "  [source](https://www.kaggle.com/datasets/threnjen/2019-airline-delays-and-cancellations?resource=download&select=raw_data_documentation.txt)), which informs about the delay of the plane's departure.\n",
    "  By performing the next steps, we will first properly prepare our initial data set for analysis and then start enriching it with additional information, e.g. weather.\n",
    "\n",
    "  By drawing conclusions from the data we received, we will be able to propose a reporting system to support business or define further steps that will improve airport operations.\n",
    "\n",
    "\n",
    " > Due to the volume of tasks in this area, this step was divided into several smaller parts."
   ]
  },
  {
   "cell_type": "markdown",
   "metadata": {
    "id": "ClzbyY6pfPTP"
   },
   "source": [
    " # Configuration"
   ]
  },
  {
   "cell_type": "code",
   "execution_count": 1,
   "metadata": {
    "id": "zNNgsvd2fPTR"
   },
   "outputs": [
    {
     "name": "stderr",
     "output_type": "stream",
     "text": [
      "C:\\ProgramData\\Anaconda3\\lib\\site-packages\\scipy\\__init__.py:146: UserWarning: A NumPy version >=1.16.5 and <1.23.0 is required for this version of SciPy (detected version 1.26.1\n",
      "  warnings.warn(f\"A NumPy version >={np_minversion} and <{np_maxversion}\"\n"
     ]
    }
   ],
   "source": [
    "import psycopg2\n",
    "import pandas as pd\n",
    "import matplotlib.pyplot as plt \n",
    "import numpy as np\n",
    "import matplotlib.pyplot as plt\n",
    "import seaborn as sns\n",
    "\n",
    "from psycopg2 import connect\n",
    "from sqlalchemy import create_engine"
   ]
  },
  {
   "cell_type": "markdown",
   "metadata": {
    "id": "8cAhYq1vfPTS"
   },
   "source": [
    " ## Connection to the database"
   ]
  },
  {
   "cell_type": "code",
   "execution_count": 2,
   "metadata": {
    "id": "Qcwz7iMUfPTT"
   },
   "outputs": [],
   "source": [
    "username = 'postgres'\n",
    "password = 'password'\n",
    "\n",
    "host = 'localhost'\n",
    "database = 'airlines'\n",
    "port = 5432"
   ]
  },
  {
   "cell_type": "code",
   "execution_count": 3,
   "metadata": {
    "id": "UwJuaCL-fPTU"
   },
   "outputs": [],
   "source": [
    "url = f\"postgresql://{username}:{password}@{host}:{port}/{database}\"\n",
    "engine = create_engine(url)"
   ]
  },
  {
   "cell_type": "code",
   "execution_count": 4,
   "metadata": {
    "id": "3T-3UXDqfPTV"
   },
   "outputs": [],
   "source": [
    "def read_sql_table(table_name):\n",
    "    file = pd.read_sql(\"SELECT * FROM\" + \" \" + table_name + ';'\"\", engine)\n",
    "    return file"
   ]
  },
  {
   "cell_type": "markdown",
   "metadata": {
    "id": "vW7b0DvDfPTW"
   },
   "source": [
    " # Loading data frames into the workspace"
   ]
  },
  {
   "cell_type": "code",
   "execution_count": 5,
   "metadata": {
    "id": "dkdSGVzofPTX"
   },
   "outputs": [
    {
     "data": {
      "text/html": [
       "<div>\n",
       "<style scoped>\n",
       "    .dataframe tbody tr th:only-of-type {\n",
       "        vertical-align: middle;\n",
       "    }\n",
       "\n",
       "    .dataframe tbody tr th {\n",
       "        vertical-align: top;\n",
       "    }\n",
       "\n",
       "    .dataframe thead th {\n",
       "        text-align: right;\n",
       "    }\n",
       "</style>\n",
       "<table border=\"1\" class=\"dataframe\">\n",
       "  <thead>\n",
       "    <tr style=\"text-align: right;\">\n",
       "      <th></th>\n",
       "      <th>id</th>\n",
       "      <th>month</th>\n",
       "      <th>day_of_month</th>\n",
       "      <th>day_of_week</th>\n",
       "      <th>op_unique_carrier</th>\n",
       "      <th>tail_num</th>\n",
       "      <th>op_carrier_fl_num</th>\n",
       "      <th>origin_airport_id</th>\n",
       "      <th>dest_airport_id</th>\n",
       "      <th>crs_dep_time</th>\n",
       "      <th>...</th>\n",
       "      <th>crs_elapsed_time</th>\n",
       "      <th>actual_elapsed_time</th>\n",
       "      <th>distance</th>\n",
       "      <th>distance_group</th>\n",
       "      <th>carrier_delay</th>\n",
       "      <th>weather_delay</th>\n",
       "      <th>nas_delay</th>\n",
       "      <th>security_delay</th>\n",
       "      <th>late_aircraft_delay</th>\n",
       "      <th>year</th>\n",
       "    </tr>\n",
       "  </thead>\n",
       "  <tbody>\n",
       "    <tr>\n",
       "      <th>0</th>\n",
       "      <td>1</td>\n",
       "      <td>1</td>\n",
       "      <td>1</td>\n",
       "      <td>2</td>\n",
       "      <td>9E</td>\n",
       "      <td>N931XJ</td>\n",
       "      <td>3290</td>\n",
       "      <td>10874</td>\n",
       "      <td>10397</td>\n",
       "      <td>600</td>\n",
       "      <td>...</td>\n",
       "      <td>129.0</td>\n",
       "      <td>100.0</td>\n",
       "      <td>528.0</td>\n",
       "      <td>3</td>\n",
       "      <td>NaN</td>\n",
       "      <td>NaN</td>\n",
       "      <td>NaN</td>\n",
       "      <td>NaN</td>\n",
       "      <td>NaN</td>\n",
       "      <td>2019</td>\n",
       "    </tr>\n",
       "    <tr>\n",
       "      <th>1</th>\n",
       "      <td>2</td>\n",
       "      <td>1</td>\n",
       "      <td>1</td>\n",
       "      <td>2</td>\n",
       "      <td>OH</td>\n",
       "      <td>N723PS</td>\n",
       "      <td>5495</td>\n",
       "      <td>10874</td>\n",
       "      <td>11057</td>\n",
       "      <td>704</td>\n",
       "      <td>...</td>\n",
       "      <td>115.0</td>\n",
       "      <td>82.0</td>\n",
       "      <td>394.0</td>\n",
       "      <td>2</td>\n",
       "      <td>NaN</td>\n",
       "      <td>NaN</td>\n",
       "      <td>NaN</td>\n",
       "      <td>NaN</td>\n",
       "      <td>NaN</td>\n",
       "      <td>2019</td>\n",
       "    </tr>\n",
       "    <tr>\n",
       "      <th>2</th>\n",
       "      <td>3</td>\n",
       "      <td>1</td>\n",
       "      <td>1</td>\n",
       "      <td>2</td>\n",
       "      <td>OH</td>\n",
       "      <td>N525EA</td>\n",
       "      <td>5416</td>\n",
       "      <td>10874</td>\n",
       "      <td>11057</td>\n",
       "      <td>1944</td>\n",
       "      <td>...</td>\n",
       "      <td>101.0</td>\n",
       "      <td>96.0</td>\n",
       "      <td>394.0</td>\n",
       "      <td>2</td>\n",
       "      <td>NaN</td>\n",
       "      <td>NaN</td>\n",
       "      <td>NaN</td>\n",
       "      <td>NaN</td>\n",
       "      <td>NaN</td>\n",
       "      <td>2019</td>\n",
       "    </tr>\n",
       "    <tr>\n",
       "      <th>3</th>\n",
       "      <td>4</td>\n",
       "      <td>1</td>\n",
       "      <td>1</td>\n",
       "      <td>2</td>\n",
       "      <td>OH</td>\n",
       "      <td>N706PS</td>\n",
       "      <td>5426</td>\n",
       "      <td>10874</td>\n",
       "      <td>11057</td>\n",
       "      <td>1521</td>\n",
       "      <td>...</td>\n",
       "      <td>103.0</td>\n",
       "      <td>93.0</td>\n",
       "      <td>394.0</td>\n",
       "      <td>2</td>\n",
       "      <td>NaN</td>\n",
       "      <td>NaN</td>\n",
       "      <td>NaN</td>\n",
       "      <td>NaN</td>\n",
       "      <td>NaN</td>\n",
       "      <td>2019</td>\n",
       "    </tr>\n",
       "    <tr>\n",
       "      <th>4</th>\n",
       "      <td>5</td>\n",
       "      <td>1</td>\n",
       "      <td>1</td>\n",
       "      <td>2</td>\n",
       "      <td>OH</td>\n",
       "      <td>N262PS</td>\n",
       "      <td>5440</td>\n",
       "      <td>10874</td>\n",
       "      <td>14100</td>\n",
       "      <td>756</td>\n",
       "      <td>...</td>\n",
       "      <td>93.0</td>\n",
       "      <td>74.0</td>\n",
       "      <td>335.0</td>\n",
       "      <td>2</td>\n",
       "      <td>NaN</td>\n",
       "      <td>NaN</td>\n",
       "      <td>NaN</td>\n",
       "      <td>NaN</td>\n",
       "      <td>NaN</td>\n",
       "      <td>2019</td>\n",
       "    </tr>\n",
       "    <tr>\n",
       "      <th>...</th>\n",
       "      <td>...</td>\n",
       "      <td>...</td>\n",
       "      <td>...</td>\n",
       "      <td>...</td>\n",
       "      <td>...</td>\n",
       "      <td>...</td>\n",
       "      <td>...</td>\n",
       "      <td>...</td>\n",
       "      <td>...</td>\n",
       "      <td>...</td>\n",
       "      <td>...</td>\n",
       "      <td>...</td>\n",
       "      <td>...</td>\n",
       "      <td>...</td>\n",
       "      <td>...</td>\n",
       "      <td>...</td>\n",
       "      <td>...</td>\n",
       "      <td>...</td>\n",
       "      <td>...</td>\n",
       "      <td>...</td>\n",
       "      <td>...</td>\n",
       "    </tr>\n",
       "    <tr>\n",
       "      <th>9251875</th>\n",
       "      <td>9251876</td>\n",
       "      <td>3</td>\n",
       "      <td>30</td>\n",
       "      <td>1</td>\n",
       "      <td>MQ</td>\n",
       "      <td>N240NN</td>\n",
       "      <td>3535</td>\n",
       "      <td>12511</td>\n",
       "      <td>11298</td>\n",
       "      <td>620</td>\n",
       "      <td>...</td>\n",
       "      <td>83.0</td>\n",
       "      <td>93.0</td>\n",
       "      <td>327.0</td>\n",
       "      <td>2</td>\n",
       "      <td>NaN</td>\n",
       "      <td>NaN</td>\n",
       "      <td>NaN</td>\n",
       "      <td>NaN</td>\n",
       "      <td>NaN</td>\n",
       "      <td>2020</td>\n",
       "    </tr>\n",
       "    <tr>\n",
       "      <th>9251876</th>\n",
       "      <td>9251877</td>\n",
       "      <td>3</td>\n",
       "      <td>30</td>\n",
       "      <td>1</td>\n",
       "      <td>MQ</td>\n",
       "      <td>N673AE</td>\n",
       "      <td>3744</td>\n",
       "      <td>12511</td>\n",
       "      <td>13930</td>\n",
       "      <td>1410</td>\n",
       "      <td>...</td>\n",
       "      <td>106.0</td>\n",
       "      <td>79.0</td>\n",
       "      <td>484.0</td>\n",
       "      <td>2</td>\n",
       "      <td>NaN</td>\n",
       "      <td>NaN</td>\n",
       "      <td>NaN</td>\n",
       "      <td>NaN</td>\n",
       "      <td>NaN</td>\n",
       "      <td>2020</td>\n",
       "    </tr>\n",
       "    <tr>\n",
       "      <th>9251877</th>\n",
       "      <td>9251878</td>\n",
       "      <td>3</td>\n",
       "      <td>31</td>\n",
       "      <td>2</td>\n",
       "      <td>MQ</td>\n",
       "      <td>None</td>\n",
       "      <td>3979</td>\n",
       "      <td>12511</td>\n",
       "      <td>13930</td>\n",
       "      <td>540</td>\n",
       "      <td>...</td>\n",
       "      <td>106.0</td>\n",
       "      <td>NaN</td>\n",
       "      <td>484.0</td>\n",
       "      <td>2</td>\n",
       "      <td>NaN</td>\n",
       "      <td>NaN</td>\n",
       "      <td>NaN</td>\n",
       "      <td>NaN</td>\n",
       "      <td>NaN</td>\n",
       "      <td>2020</td>\n",
       "    </tr>\n",
       "    <tr>\n",
       "      <th>9251878</th>\n",
       "      <td>9251879</td>\n",
       "      <td>3</td>\n",
       "      <td>31</td>\n",
       "      <td>2</td>\n",
       "      <td>MQ</td>\n",
       "      <td>None</td>\n",
       "      <td>4160</td>\n",
       "      <td>12511</td>\n",
       "      <td>11298</td>\n",
       "      <td>1616</td>\n",
       "      <td>...</td>\n",
       "      <td>87.0</td>\n",
       "      <td>NaN</td>\n",
       "      <td>327.0</td>\n",
       "      <td>2</td>\n",
       "      <td>NaN</td>\n",
       "      <td>NaN</td>\n",
       "      <td>NaN</td>\n",
       "      <td>NaN</td>\n",
       "      <td>NaN</td>\n",
       "      <td>2020</td>\n",
       "    </tr>\n",
       "    <tr>\n",
       "      <th>9251879</th>\n",
       "      <td>9251880</td>\n",
       "      <td>3</td>\n",
       "      <td>31</td>\n",
       "      <td>2</td>\n",
       "      <td>MQ</td>\n",
       "      <td>N272NN</td>\n",
       "      <td>3535</td>\n",
       "      <td>12511</td>\n",
       "      <td>11298</td>\n",
       "      <td>620</td>\n",
       "      <td>...</td>\n",
       "      <td>83.0</td>\n",
       "      <td>73.0</td>\n",
       "      <td>327.0</td>\n",
       "      <td>2</td>\n",
       "      <td>NaN</td>\n",
       "      <td>NaN</td>\n",
       "      <td>NaN</td>\n",
       "      <td>NaN</td>\n",
       "      <td>NaN</td>\n",
       "      <td>2020</td>\n",
       "    </tr>\n",
       "  </tbody>\n",
       "</table>\n",
       "<p>9251880 rows × 28 columns</p>\n",
       "</div>"
      ],
      "text/plain": [
       "              id  month  day_of_month  day_of_week op_unique_carrier tail_num  \\\n",
       "0              1      1             1            2                9E   N931XJ   \n",
       "1              2      1             1            2                OH   N723PS   \n",
       "2              3      1             1            2                OH   N525EA   \n",
       "3              4      1             1            2                OH   N706PS   \n",
       "4              5      1             1            2                OH   N262PS   \n",
       "...          ...    ...           ...          ...               ...      ...   \n",
       "9251875  9251876      3            30            1                MQ   N240NN   \n",
       "9251876  9251877      3            30            1                MQ   N673AE   \n",
       "9251877  9251878      3            31            2                MQ     None   \n",
       "9251878  9251879      3            31            2                MQ     None   \n",
       "9251879  9251880      3            31            2                MQ   N272NN   \n",
       "\n",
       "         op_carrier_fl_num  origin_airport_id  dest_airport_id  crs_dep_time  \\\n",
       "0                     3290              10874            10397           600   \n",
       "1                     5495              10874            11057           704   \n",
       "2                     5416              10874            11057          1944   \n",
       "3                     5426              10874            11057          1521   \n",
       "4                     5440              10874            14100           756   \n",
       "...                    ...                ...              ...           ...   \n",
       "9251875               3535              12511            11298           620   \n",
       "9251876               3744              12511            13930          1410   \n",
       "9251877               3979              12511            13930           540   \n",
       "9251878               4160              12511            11298          1616   \n",
       "9251879               3535              12511            11298           620   \n",
       "\n",
       "         ...  crs_elapsed_time  actual_elapsed_time distance  distance_group  \\\n",
       "0        ...             129.0                100.0    528.0               3   \n",
       "1        ...             115.0                 82.0    394.0               2   \n",
       "2        ...             101.0                 96.0    394.0               2   \n",
       "3        ...             103.0                 93.0    394.0               2   \n",
       "4        ...              93.0                 74.0    335.0               2   \n",
       "...      ...               ...                  ...      ...             ...   \n",
       "9251875  ...              83.0                 93.0    327.0               2   \n",
       "9251876  ...             106.0                 79.0    484.0               2   \n",
       "9251877  ...             106.0                  NaN    484.0               2   \n",
       "9251878  ...              87.0                  NaN    327.0               2   \n",
       "9251879  ...              83.0                 73.0    327.0               2   \n",
       "\n",
       "         carrier_delay  weather_delay nas_delay  security_delay  \\\n",
       "0                  NaN            NaN       NaN             NaN   \n",
       "1                  NaN            NaN       NaN             NaN   \n",
       "2                  NaN            NaN       NaN             NaN   \n",
       "3                  NaN            NaN       NaN             NaN   \n",
       "4                  NaN            NaN       NaN             NaN   \n",
       "...                ...            ...       ...             ...   \n",
       "9251875            NaN            NaN       NaN             NaN   \n",
       "9251876            NaN            NaN       NaN             NaN   \n",
       "9251877            NaN            NaN       NaN             NaN   \n",
       "9251878            NaN            NaN       NaN             NaN   \n",
       "9251879            NaN            NaN       NaN             NaN   \n",
       "\n",
       "         late_aircraft_delay  year  \n",
       "0                        NaN  2019  \n",
       "1                        NaN  2019  \n",
       "2                        NaN  2019  \n",
       "3                        NaN  2019  \n",
       "4                        NaN  2019  \n",
       "...                      ...   ...  \n",
       "9251875                  NaN  2020  \n",
       "9251876                  NaN  2020  \n",
       "9251877                  NaN  2020  \n",
       "9251878                  NaN  2020  \n",
       "9251879                  NaN  2020  \n",
       "\n",
       "[9251880 rows x 28 columns]"
      ]
     },
     "execution_count": 5,
     "metadata": {},
     "output_type": "execute_result"
    }
   ],
   "source": [
    "flight_df_first = read_sql_table('flight')\n",
    "\n",
    "flight_df_raw = flight_df_first.copy()\n",
    "flight_df_raw"
   ]
  },
  {
   "cell_type": "code",
   "execution_count": 6,
   "metadata": {
    "id": "g_R4PHPMfPTY"
   },
   "outputs": [],
   "source": [
    "flight_df = flight_df_raw.loc[(flight_df_raw[\"year\"] != 2020) & (flight_df_raw['cancelled'] != 1.0)]"
   ]
  },
  {
   "cell_type": "code",
   "execution_count": 7,
   "metadata": {
    "id": "MvvFo0mhfPTY"
   },
   "outputs": [
    {
     "name": "stderr",
     "output_type": "stream",
     "text": [
      "C:\\Users\\milen\\AppData\\Local\\Temp\\ipykernel_25580\\3758380838.py:1: SettingWithCopyWarning: \n",
      "A value is trying to be set on a copy of a slice from a DataFrame\n",
      "\n",
      "See the caveats in the documentation: https://pandas.pydata.org/pandas-docs/stable/user_guide/indexing.html#returning-a-view-versus-a-copy\n",
      "  flight_df.rename(\n"
     ]
    }
   ],
   "source": [
    "flight_df.rename(\n",
    "    columns={'dep_delay_new': 'dep_delay'},\n",
    "    inplace = True\n",
    ")"
   ]
  },
  {
   "cell_type": "markdown",
   "metadata": {
    "id": "suOSj5RUfPTc"
   },
   "source": [
    " # Column analysis `dep_delay` part 1"
   ]
  },
  {
   "cell_type": "code",
   "execution_count": 9,
   "metadata": {
    "id": "P-Ll2oWdfPTd"
   },
   "outputs": [],
   "source": [
    "percentiles = [0.1, 0.25, 0.5, 0.75, 0.9, 0.95, 0.99]\n",
    "dep_delay_statistics_df = (flight_df['dep_delay']\n",
    "                           .describe(percentiles=percentiles )\n",
    "                           .round(2)\n",
    "                          )"
   ]
  },
  {
   "cell_type": "markdown",
   "metadata": {
    "id": "h3FuFQdAfPTd"
   },
   "source": [
    " # Column analysis `dep_delay` part 2"
   ]
  },
  {
   "cell_type": "code",
   "execution_count": 11,
   "metadata": {
    "id": "Oormr8RUfPTe",
    "scrolled": true
   },
   "outputs": [
    {
     "data": {
      "text/plain": [
       "Text(0.5, 1.0, 'Analysis column dep_delay')"
      ]
     },
     "execution_count": 11,
     "metadata": {},
     "output_type": "execute_result"
    },
    {
     "data": {
      "image/png": "[encoded data removed]",
      "text/plain": [
       "<Figure size 1440x720 with 1 Axes>"
      ]
     },
     "metadata": {
      "needs_background": "light"
     },
     "output_type": "display_data"
    }
   ],
   "source": [
    "data = flight_df['dep_delay']\n",
    "\n",
    "plt.figure(figsize=(20,10))\n",
    "           \n",
    "bins = range(0, 200, 10)\n",
    "\n",
    "xticks_loc = []\n",
    "for bin_start in range(0, 200, 10):\n",
    "    bin_middle = bin_start + 10\n",
    "    xticks_loc.append(bin_middle)\n",
    "    \n",
    "# print(xticks_loc)\n",
    "# Nazwy znaczników\n",
    "xticks_label = []\n",
    "\n",
    "for bin_start in range(0, 200, 10):\n",
    "    bin_end = bin_start + 10\n",
    "    label = f'{bin_start}-{bin_end}'\n",
    "    xticks_label.append(label)\n",
    "    \n",
    "# print(xticks_label)    \n",
    "plt.hist(data, bins=bins, alpha=0.4, rwidth=0.95)\n",
    "plt.xticks(xticks_loc, xticks_label, rotation=45);\n",
    "\n",
    "plt.hist(data, bins=bins, alpha=0.4, rwidth=0.95)\n",
    "\n",
    "plt.xlabel('X-Axis')\n",
    "plt.ylabel('Y-Axis')\n",
    "  \n",
    "plt.title('Analysis column dep_delay',\n",
    "          fontweight =\"bold\")\n",
    "\n",
    "\n"
   ]
  },
  {
   "cell_type": "code",
   "execution_count": 12,
   "metadata": {
    "id": "KQq6PfLEfPTe"
   },
   "outputs": [
    {
     "data": {
      "text/plain": [
       "Text(0.5, 1.0, 'Analysis column dep_delay')"
      ]
     },
     "execution_count": 12,
     "metadata": {},
     "output_type": "execute_result"
    },
    {
     "data": {
      "image/png": "[encoded data removed]",
      "text/plain": [
       "<Figure size 1440x720 with 1 Axes>"
      ]
     },
     "metadata": {
      "needs_background": "light"
     },
     "output_type": "display_data"
    }
   ],
   "source": [
    "data_loc = flight_df.loc[flight_df['dep_delay'] > 0]\n",
    "data = data_loc['dep_delay']\n",
    "plt.figure(figsize=(20,10))\n",
    "           \n",
    "bins = range(10, 400, 10)\n",
    "\n",
    "xticks_loc = []\n",
    "for bin_start in range(10, 400, 10):\n",
    "    bin_middle = bin_start + 10\n",
    "    xticks_loc.append(bin_middle)\n",
    "    \n",
    "# print(xticks_loc)\n",
    "xticks_label = []\n",
    "\n",
    "for bin_start in range(10, 400, 10):\n",
    "    bin_end = bin_start + 10\n",
    "    label = f'{bin_start}-{bin_end}'\n",
    "    xticks_label.append(label)\n",
    "    \n",
    "# print(xticks_label)    \n",
    "plt.hist(data, bins=bins, alpha=0.4, rwidth=0.95)\n",
    "plt.xticks(xticks_loc, xticks_label, rotation=45);\n",
    "\n",
    "plt.hist(data, bins=bins, alpha=0.4, rwidth=0.95)\n",
    "\n",
    "plt.xlabel('X-Axis')\n",
    "plt.ylabel('Y-Axis')\n",
    "  \n",
    "plt.title('Analysis column dep_delay',\n",
    "          fontweight =\"bold\")"
   ]
  },
  {
   "cell_type": "code",
   "execution_count": 13,
   "metadata": {
    "id": "TQS3bUZwfPTe"
   },
   "outputs": [
    {
     "data": {
      "text/plain": [
       "Text(0.5, 1.0, 'Analysis column dep_delay')"
      ]
     },
     "execution_count": 13,
     "metadata": {},
     "output_type": "execute_result"
    },
    {
     "data": {
      "image/png": "[encoded data removed]",
      "text/plain": [
       "<Figure size 1440x720 with 1 Axes>"
      ]
     },
     "metadata": {
      "needs_background": "light"
     },
     "output_type": "display_data"
    }
   ],
   "source": [
    "data_loc_2 = data_loc.query('dep_delay < dep_delay.quantile(.95)')\n",
    "data = data_loc_2['dep_delay']\n",
    "\n",
    "plt.figure(figsize=(20,10))\n",
    "           \n",
    "bins = range(10, 200, 10)\n",
    "\n",
    "xticks_loc = []\n",
    "for bin_start in range(10, 200, 10):\n",
    "    bin_middle = bin_start + 10\n",
    "    xticks_loc.append(bin_middle)\n",
    "    \n",
    "# print(xticks_loc)\n",
    "xticks_label = []\n",
    "\n",
    "for bin_start in range(10, 200, 10):\n",
    "    bin_end = bin_start + 10\n",
    "    label = f'{bin_start}-{bin_end}'\n",
    "    xticks_label.append(label)\n",
    "    \n",
    "# print(xticks_label)    \n",
    "plt.hist(data, bins=bins, alpha=0.4, rwidth=0.95)\n",
    "plt.xticks(xticks_loc, xticks_label, rotation=45);\n",
    "\n",
    "plt.hist(data, bins=bins, alpha=0.4, rwidth=0.95)\n",
    "\n",
    "plt.xlabel('X-Axis')\n",
    "plt.ylabel('Y-Axis')\n",
    "  \n",
    "plt.title('Analysis column dep_delay',\n",
    "          fontweight =\"bold\")"
   ]
  },
  {
   "cell_type": "markdown",
   "metadata": {
    "id": "X0Gjv5CEfPTf"
   },
   "source": [
    " # Delay analysis"
   ]
  },
  {
   "cell_type": "markdown",
   "metadata": {
    "id": "jX-1XuNMfPTf"
   },
   "source": [
    " Tutaj stwórz nową kolumnę `is_delayed` oraz odpowiednio ją uzupełnij."
   ]
  },
  {
   "cell_type": "code",
   "execution_count": 14,
   "metadata": {
    "id": "WooTaLMJfPTf"
   },
   "outputs": [
    {
     "name": "stderr",
     "output_type": "stream",
     "text": [
      "C:\\Users\\milen\\AppData\\Local\\Temp\\ipykernel_25580\\3443620874.py:1: SettingWithCopyWarning: \n",
      "A value is trying to be set on a copy of a slice from a DataFrame.\n",
      "Try using .loc[row_indexer,col_indexer] = value instead\n",
      "\n",
      "See the caveats in the documentation: https://pandas.pydata.org/pandas-docs/stable/user_guide/indexing.html#returning-a-view-versus-a-copy\n",
      "  flight_df[\"is_delayed\"] = flight_df['dep_delay'] > 15\n"
     ]
    }
   ],
   "source": [
    "flight_df[\"is_delayed\"] = flight_df['dep_delay'] > 15"
   ]
  },
  {
   "cell_type": "code",
   "execution_count": 15,
   "metadata": {
    "id": "B8i9csOsfPTf"
   },
   "outputs": [
    {
     "name": "stderr",
     "output_type": "stream",
     "text": [
      "C:\\Users\\milen\\AppData\\Local\\Temp\\ipykernel_25580\\488025511.py:1: FutureWarning: Series.__getitem__ treating keys as positions is deprecated. In a future version, integer keys will always be treated as labels (consistent with DataFrame behavior). To access a value by position, use `ser.iloc[pos]`\n",
      "  delayed_ratio = flight_df['is_delayed'].value_counts(normalize=True)[1].round(2)\n"
     ]
    }
   ],
   "source": [
    "delayed_ratio = flight_df['is_delayed'].value_counts(normalize=True)[1].round(2)"
   ]
  },
  {
   "cell_type": "markdown",
   "metadata": {
    "id": "0sFapSy2fPTf"
   },
   "source": [
    " # Delay vs. months"
   ]
  },
  {
   "cell_type": "code",
   "execution_count": 23,
   "metadata": {
    "id": "ILE80jcqfPTg"
   },
   "outputs": [
    {
     "data": {
      "text/plain": [
       "month\n",
       "1     0.168264\n",
       "2     0.207872\n",
       "3     0.165308\n",
       "4     0.176047\n",
       "5     0.192986\n",
       "6     0.232578\n",
       "7     0.203625\n",
       "8     0.196716\n",
       "9     0.131631\n",
       "10    0.154533\n",
       "11    0.135574\n",
       "12    0.199423\n",
       "Name: is_delayed, dtype: float64"
      ]
     },
     "execution_count": 23,
     "metadata": {},
     "output_type": "execute_result"
    }
   ],
   "source": [
    "flight_delays_by_month_df = (flight_df\n",
    "                             .groupby(by=[\"month\"])['is_delayed']\n",
    "                             .mean()\n",
    "                            )\n",
    "flight_delays_by_month_df\n"
   ]
  },
  {
   "cell_type": "code",
   "execution_count": 24,
   "metadata": {
    "id": "felzDxiefPTg"
   },
   "outputs": [
    {
     "data": {
      "text/plain": [
       "Text(0, 0.5, 'Delay')"
      ]
     },
     "execution_count": 24,
     "metadata": {},
     "output_type": "execute_result"
    },
    {
     "data": {
      "image/png": "[encoded data removed]",
      "text/plain": [
       "<Figure size 1080x720 with 1 Axes>"
      ]
     },
     "metadata": {
      "needs_background": "light"
     },
     "output_type": "display_data"
    }
   ],
   "source": [
    "plt.figure(figsize=(15,10))\n",
    "\n",
    "plt.bar(\n",
    "    x=range(1,13),\n",
    "    height = flight_delays_by_month_df\n",
    ")\n",
    "\n",
    "plt.title('Delay vs. Month')\n",
    "plt.xlabel('Month')\n",
    "plt.ylabel('Delay')\n",
    "  \n"
   ]
  },
  {
   "cell_type": "markdown",
   "metadata": {
    "id": "FWhdXPwVfPTg"
   },
   "source": [
    " # Delay vs. weeks part 1"
   ]
  },
  {
   "cell_type": "code",
   "execution_count": 25,
   "metadata": {
    "id": "SfiWTKDxfPTh"
   },
   "outputs": [
    {
     "data": {
      "text/plain": [
       "day_of_week\n",
       "1    0.189538\n",
       "2    0.167228\n",
       "3    0.172330\n",
       "4    0.195157\n",
       "5    0.190212\n",
       "6    0.161410\n",
       "7    0.184129\n",
       "Name: is_delayed, dtype: float64"
      ]
     },
     "execution_count": 25,
     "metadata": {},
     "output_type": "execute_result"
    }
   ],
   "source": [
    "flight_delays_by_weekday_df = (flight_df\n",
    "                               .groupby(by=[\"day_of_week\"])['is_delayed']\n",
    "                               .mean()\n",
    "                              )\n",
    "flight_delays_by_weekday_df"
   ]
  },
  {
   "cell_type": "code",
   "execution_count": 26,
   "metadata": {
    "id": "8t1bsNAefPTh"
   },
   "outputs": [
    {
     "data": {
      "text/plain": [
       "Text(0, 0.5, 'Delay')"
      ]
     },
     "execution_count": 26,
     "metadata": {},
     "output_type": "execute_result"
    },
    {
     "data": {
      "image/png": "[encoded data removed]",
      "text/plain": [
       "<Figure size 1080x720 with 1 Axes>"
      ]
     },
     "metadata": {
      "needs_background": "light"
     },
     "output_type": "display_data"
    }
   ],
   "source": [
    "plt.figure(figsize=(15,10))\n",
    "\n",
    "plt.bar(\n",
    "    x=range(1,8),\n",
    "    height=flight_delays_by_weekday_df\n",
    ")\n",
    "\n",
    "plt.title('Delay vs. Day of week')\n",
    "plt.xlabel('Day of week')\n",
    "plt.ylabel('Delay')"
   ]
  },
  {
   "cell_type": "markdown",
   "metadata": {
    "id": "Hef6UKudfPTh"
   },
   "source": [
    " # Delay vs. weeks part 2"
   ]
  },
  {
   "cell_type": "code",
   "execution_count": 27,
   "metadata": {
    "id": "hoXhhRp2fPTh"
   },
   "outputs": [
    {
     "name": "stderr",
     "output_type": "stream",
     "text": [
      "C:\\Users\\milen\\AppData\\Local\\Temp\\ipykernel_25580\\463717789.py:1: SettingWithCopyWarning: \n",
      "A value is trying to be set on a copy of a slice from a DataFrame.\n",
      "Try using .loc[row_indexer,col_indexer] = value instead\n",
      "\n",
      "See the caveats in the documentation: https://pandas.pydata.org/pandas-docs/stable/user_guide/indexing.html#returning-a-view-versus-a-copy\n",
      "  flight_df['is_weekend'] = 1\n"
     ]
    }
   ],
   "source": [
    "flight_df['is_weekend'] = 1\n",
    "\n",
    "not_weekend = flight_df['day_of_week'] < 6\n",
    "flight_df.loc[not_weekend, 'is_weekend'] = 0"
   ]
  },
  {
   "cell_type": "code",
   "execution_count": 28,
   "metadata": {
    "id": "WnZx24jhfPTh"
   },
   "outputs": [
    {
     "data": {
      "text/plain": [
       "is_weekend\n",
       "0    0.18\n",
       "1    0.17\n",
       "Name: is_delayed, dtype: float64"
      ]
     },
     "execution_count": 28,
     "metadata": {},
     "output_type": "execute_result"
    }
   ],
   "source": [
    "flight_delays_by_weekend_df = (flight_df\n",
    "                               .groupby(by=['is_weekend'])['is_delayed']\n",
    "                               .mean()\n",
    "                               .round(2)\n",
    "                              )\n",
    "flight_delays_by_weekend_df"
   ]
  },
  {
   "cell_type": "code",
   "execution_count": 29,
   "metadata": {
    "id": "N923OTxRfPTi"
   },
   "outputs": [
    {
     "data": {
      "text/plain": [
       "Text(0, 0.5, 'x')"
      ]
     },
     "execution_count": 29,
     "metadata": {},
     "output_type": "execute_result"
    },
    {
     "data": {
      "image/png": "[encoded data removed]",
      "text/plain": [
       "<Figure size 1080x720 with 1 Axes>"
      ]
     },
     "metadata": {
      "needs_background": "light"
     },
     "output_type": "display_data"
    }
   ],
   "source": [
    "plt.figure(figsize=(15,10))\n",
    "\n",
    "delay = flight_delays_by_weekend_df.to_list()\n",
    "y = ['Monday-Friday', 'Weekend']\n",
    "\n",
    "plt.bar(\n",
    "    x=['Monday-Friday', 'Weekend'],\n",
    "    height=flight_delays_by_weekend_df)\n",
    "\n",
    "plt.title('Delay %')\n",
    "plt.xlabel('y')\n",
    "plt.ylabel('x')"
   ]
  },
  {
   "cell_type": "markdown",
   "metadata": {
    "id": "4rTzizXkfPTi"
   },
   "source": [
    " # Delay vs. flight distance\n",
    " \n",
    " > For large data sets, plotting all data is pointless for readability reasons. Even though we will present a certain part of the set, we assume that there is enough data in the chart to constitute a representative sample of the population."
   ]
  },
  {
   "cell_type": "code",
   "execution_count": 30,
   "metadata": {
    "id": "NIjw3Fv8fPTj"
   },
   "outputs": [
    {
     "data": {
      "text/plain": [
       "count    7287112.00\n",
       "mean         803.11\n",
       "std          594.14\n",
       "min           31.00\n",
       "10%          224.00\n",
       "25%          369.00\n",
       "50%          641.00\n",
       "75%         1035.00\n",
       "90%         1621.00\n",
       "95%         2171.00\n",
       "99%         2586.00\n",
       "max         5095.00\n",
       "Name: distance, dtype: float64"
      ]
     },
     "execution_count": 30,
     "metadata": {},
     "output_type": "execute_result"
    }
   ],
   "source": [
    "flight_distance_analysis_df = (flight_df['distance']\n",
    "                               .describe(percentiles=percentiles)\n",
    "                               .round(2)\n",
    "                              )\n",
    "flight_distance_analysis_df"
   ]
  },
  {
   "cell_type": "code",
   "execution_count": 31,
   "metadata": {
    "id": "5tsOsy6XfPTj"
   },
   "outputs": [
    {
     "data": {
      "text/plain": [
       "Text(0, 0.5, 'Delay')"
      ]
     },
     "execution_count": 31,
     "metadata": {},
     "output_type": "execute_result"
    },
    {
     "data": {
      "image/png": "[encoded data removed]",
      "text/plain": [
       "<Figure size 1080x720 with 1 Axes>"
      ]
     },
     "metadata": {
      "needs_background": "light"
     },
     "output_type": "display_data"
    }
   ],
   "source": [
    "plt.figure(figsize=(15, 10))\n",
    "df_to_plot = flight_df.sample(n=10000)\n",
    "\n",
    "plt.scatter(\n",
    "    x = df_to_plot['distance'],\n",
    "    y = df_to_plot['dep_delay']\n",
    ")\n",
    "\n",
    "\n",
    "plt.title('Dep_deley vs distance')\n",
    "plt.xlabel('Disctance')\n",
    "plt.ylabel('Delay')"
   ]
  },
  {
   "cell_type": "code",
   "execution_count": 32,
   "metadata": {
    "id": "U6tgYJLbfPTj"
   },
   "outputs": [],
   "source": [
    "flight_df = flight_df.loc[~(flight_df['distance'] > flight_df['distance'].quantile(q=0.95))]"
   ]
  },
  {
   "cell_type": "code",
   "execution_count": 33,
   "metadata": {
    "id": "imJl30pBfPTj"
   },
   "outputs": [
    {
     "name": "stderr",
     "output_type": "stream",
     "text": [
      "C:\\Users\\milen\\AppData\\Local\\Temp\\ipykernel_25580\\528713449.py:7: FutureWarning: The default of observed=False is deprecated and will be changed to True in a future version of pandas. Pass observed=False to retain current behavior or observed=True to adopt the future default and silence this warning.\n",
      "  flight_delays_by_distance_agg_df = (flight_df\n"
     ]
    },
    {
     "data": {
      "text/plain": [
       "distance_agg\n",
       "(0, 100]        0.143626\n",
       "(100, 200]      0.166791\n",
       "(200, 300]      0.168924\n",
       "(300, 400]      0.172931\n",
       "(400, 500]      0.171190\n",
       "(500, 600]      0.169770\n",
       "(600, 700]      0.182322\n",
       "(700, 800]      0.198607\n",
       "(800, 900]      0.186496\n",
       "(900, 1000]     0.186767\n",
       "(1000, 1100]    0.199689\n",
       "(1100, 1200]    0.196807\n",
       "(1200, 1300]    0.183929\n",
       "(1300, 1400]    0.199239\n",
       "(1400, 1500]    0.183839\n",
       "(1500, 1600]    0.185773\n",
       "(1600, 1700]    0.212064\n",
       "(1700, 1800]    0.194083\n",
       "(1800, 1900]    0.201382\n",
       "(1900, 2000]    0.191031\n",
       "(2000, 2100]    0.178757\n",
       "Name: is_delayed, dtype: float64"
      ]
     },
     "execution_count": 33,
     "metadata": {},
     "output_type": "execute_result"
    }
   ],
   "source": [
    "distance_cutoff = flight_distance_analysis_df['95%']\n",
    "distance_cutoff = int(distance_cutoff)\n",
    "\n",
    "bins = range(0, distance_cutoff, 100)\n",
    "flight_df['distance_agg'] = pd.cut(flight_df['distance'], bins)\n",
    "\n",
    "flight_delays_by_distance_agg_df = (flight_df\n",
    "                                    .groupby(by = ['distance_agg'])['is_delayed']\n",
    "                                    .mean()\n",
    "                                   )\n",
    "flight_delays_by_distance_agg_df"
   ]
  },
  {
   "cell_type": "code",
   "execution_count": 34,
   "metadata": {
    "id": "r3pwIEyZfPTk"
   },
   "outputs": [
    {
     "data": {
      "text/plain": [
       "Text(0, 0.5, 'x')"
      ]
     },
     "execution_count": 34,
     "metadata": {},
     "output_type": "execute_result"
    },
    {
     "data": {
      "image/png": "[encoded data removed]",
      "text/plain": [
       "<Figure size 1080x720 with 1 Axes>"
      ]
     },
     "metadata": {
      "needs_background": "light"
     },
     "output_type": "display_data"
    }
   ],
   "source": [
    "plt.figure(figsize=(15,10))\n",
    "\n",
    "plt.bar(\n",
    "    x=flight_delays_by_distance_agg_df.index.astype(str),\n",
    "    height=flight_delays_by_distance_agg_df\n",
    ")\n",
    "\n",
    "plt.title('Delay %')\n",
    "plt.xticks(rotation=45);\n",
    "plt.xlabel('y')\n",
    "plt.ylabel('x')"
   ]
  },
  {
   "cell_type": "markdown",
   "metadata": {
    "id": "Ebk-kU1yfPTk"
   },
   "source": [
    " # Delay vs. distance group"
   ]
  },
  {
   "cell_type": "code",
   "execution_count": 35,
   "metadata": {
    "id": "lPOs9od5fPTk"
   },
   "outputs": [
    {
     "data": {
      "text/html": [
       "<div>\n",
       "<style scoped>\n",
       "    .dataframe tbody tr th:only-of-type {\n",
       "        vertical-align: middle;\n",
       "    }\n",
       "\n",
       "    .dataframe tbody tr th {\n",
       "        vertical-align: top;\n",
       "    }\n",
       "\n",
       "    .dataframe thead tr th {\n",
       "        text-align: left;\n",
       "    }\n",
       "\n",
       "    .dataframe thead tr:last-of-type th {\n",
       "        text-align: right;\n",
       "    }\n",
       "</style>\n",
       "<table border=\"1\" class=\"dataframe\">\n",
       "  <thead>\n",
       "    <tr>\n",
       "      <th></th>\n",
       "      <th colspan=\"2\" halign=\"left\">distance</th>\n",
       "    </tr>\n",
       "    <tr>\n",
       "      <th></th>\n",
       "      <th>min</th>\n",
       "      <th>max</th>\n",
       "    </tr>\n",
       "    <tr>\n",
       "      <th>distance_group</th>\n",
       "      <th></th>\n",
       "      <th></th>\n",
       "    </tr>\n",
       "  </thead>\n",
       "  <tbody>\n",
       "    <tr>\n",
       "      <th>1</th>\n",
       "      <td>31.0</td>\n",
       "      <td>249.0</td>\n",
       "    </tr>\n",
       "    <tr>\n",
       "      <th>2</th>\n",
       "      <td>250.0</td>\n",
       "      <td>498.0</td>\n",
       "    </tr>\n",
       "    <tr>\n",
       "      <th>3</th>\n",
       "      <td>500.0</td>\n",
       "      <td>749.0</td>\n",
       "    </tr>\n",
       "    <tr>\n",
       "      <th>4</th>\n",
       "      <td>750.0</td>\n",
       "      <td>999.0</td>\n",
       "    </tr>\n",
       "    <tr>\n",
       "      <th>5</th>\n",
       "      <td>1001.0</td>\n",
       "      <td>1249.0</td>\n",
       "    </tr>\n",
       "    <tr>\n",
       "      <th>6</th>\n",
       "      <td>1250.0</td>\n",
       "      <td>1499.0</td>\n",
       "    </tr>\n",
       "    <tr>\n",
       "      <th>7</th>\n",
       "      <td>1500.0</td>\n",
       "      <td>1749.0</td>\n",
       "    </tr>\n",
       "    <tr>\n",
       "      <th>8</th>\n",
       "      <td>1750.0</td>\n",
       "      <td>1999.0</td>\n",
       "    </tr>\n",
       "    <tr>\n",
       "      <th>9</th>\n",
       "      <td>2007.0</td>\n",
       "      <td>2171.0</td>\n",
       "    </tr>\n",
       "  </tbody>\n",
       "</table>\n",
       "</div>"
      ],
      "text/plain": [
       "               distance        \n",
       "                    min     max\n",
       "distance_group                 \n",
       "1                  31.0   249.0\n",
       "2                 250.0   498.0\n",
       "3                 500.0   749.0\n",
       "4                 750.0   999.0\n",
       "5                1001.0  1249.0\n",
       "6                1250.0  1499.0\n",
       "7                1500.0  1749.0\n",
       "8                1750.0  1999.0\n",
       "9                2007.0  2171.0"
      ]
     },
     "execution_count": 35,
     "metadata": {},
     "output_type": "execute_result"
    }
   ],
   "source": [
    "stats = [\"min\", \"max\"]\n",
    "\n",
    "flight_distance_by_distance_group = (flight_df\n",
    "                                     .groupby(by=[\"distance_group\"])[[\"distance\"]]\n",
    "                                     .agg(stats)\n",
    "                                    )\n",
    "flight_distance_by_distance_group"
   ]
  },
  {
   "cell_type": "code",
   "execution_count": 36,
   "metadata": {
    "id": "DGuIVOGifPTk"
   },
   "outputs": [
    {
     "data": {
      "text/plain": [
       "distance_group\n",
       "1    0.163473\n",
       "2    0.172565\n",
       "3    0.180666\n",
       "4    0.186428\n",
       "5    0.197828\n",
       "6    0.186072\n",
       "7    0.195030\n",
       "8    0.196153\n",
       "9    0.196243\n",
       "Name: is_delayed, dtype: float64"
      ]
     },
     "execution_count": 36,
     "metadata": {},
     "output_type": "execute_result"
    }
   ],
   "source": [
    "flight_delays_by_distance_group_df = (flight_df\n",
    "                                      .groupby(by = ['distance_group'])['is_delayed']\n",
    "                                      .mean()\n",
    "                                     )\n",
    "flight_delays_by_distance_group_df"
   ]
  },
  {
   "cell_type": "code",
   "execution_count": 37,
   "metadata": {
    "id": "vXL5chp3fPTl"
   },
   "outputs": [
    {
     "data": {
      "text/plain": [
       "Text(0, 0.5, 'Delay')"
      ]
     },
     "execution_count": 37,
     "metadata": {},
     "output_type": "execute_result"
    },
    {
     "data": {
      "image/png": "[encoded data removed]",
      "text/plain": [
       "<Figure size 1080x720 with 1 Axes>"
      ]
     },
     "metadata": {
      "needs_background": "light"
     },
     "output_type": "display_data"
    }
   ],
   "source": [
    "plt.figure(figsize=(15,10))\n",
    "\n",
    "plt.bar(\n",
    "    x=flight_delays_by_distance_group_df.index.astype(str),\n",
    "    height=flight_delays_by_distance_group_df\n",
    ")\n",
    "\n",
    "plt.title('Delay %')\n",
    "plt.xlabel('Distance')\n",
    "plt.ylabel('Delay')"
   ]
  },
  {
   "cell_type": "markdown",
   "metadata": {
    "id": "8GD6EcCOfPTl"
   },
   "source": [
    " ## Does longer distance mean a greater chance of flight delay?\n"
   ]
  },
  {
   "cell_type": "markdown",
   "metadata": {
    "id": "ilUyQqL0fPTl"
   },
   "source": [
    "Analyzing the data, it can be concluded that a longer distance means a greater probability of flight delay."
   ]
  },
  {
   "cell_type": "code",
   "execution_count": 38,
   "metadata": {
    "id": "UUC6Rs-ffPTl"
   },
   "outputs": [],
   "source": [
    "flight_df.to_csv(\"../data/processed/flight_df_01.csv\",\n",
    "                sep=';')"
   ]
  }
 ],
 "metadata": {
  "colab": {
   "provenance": []
  },
  "kernelspec": {
   "display_name": "Python 3 (ipykernel)",
   "language": "python",
   "name": "python3"
  },
  "language_info": {
   "codemirror_mode": {
    "name": "ipython",
    "version": 3
   },
   "file_extension": ".py",
   "mimetype": "text/x-python",
   "name": "python",
   "nbconvert_exporter": "python",
   "pygments_lexer": "ipython3",
   "version": "3.9.12"
  },
  "vscode": {
   "interpreter": {
    "hash": "136089914e87e2d4f80cd8636e7ceb6fbad42888d13047c5eed4d3dfe8a58423"
   }
  }
 },
 "nbformat": 4,
 "nbformat_minor": 1
}
