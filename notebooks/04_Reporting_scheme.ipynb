{
 "cells": [
  {
   "cell_type": "markdown",
   "metadata": {},
   "source": [
    " # Description\n",
    " Preparation of a report based on data from 2020. It is later to be implemented by the IT team externally service. The choice fell on `Dash`.\n",
    "\n",
    "  I will perform the task in two steps:\n",
    "  \n",
    "  1. Knowing the report requirements, we will create appropriate components based on the data, which will then be used for visualization.\n",
    "  1. We will create a report using `Dash`.\n",
    "\n",
    "  This notebook focuses on properly preparing the database for reporting purposes."
   ]
  },
  {
   "cell_type": "markdown",
   "metadata": {},
   "source": [
    "# Business requirements\n",
    "  After presenting the analysis results at an independent meeting, the following reporting areas were defined:\n",
    "  1. Displaying the TOP 10 airports based on the number of departures, information about the number of arrivals should also be displayed - `top_airports_by_departure` view.\n",
    "  1. Displaying the TOP 10 routes based on reliability, the minimum number of flights on the route should be at least 10,000. The order is important for us, for example the route (Warsaw, Paris) is different from (Paris, Warsaw) - `top_reliability_roads` view .\n",
    "  1. Comparison of 2019 vs. 2020 to track the impact of COVID on flight operations. We are interested in approaches:\n",
    "      - month to month, for example January 2019 vs. January 2020, February 2019 vs. February 2020 etc. - `year_to_year_comparison` view,\n",
    "      - day to day, for example Tuesday 2019 vs. Tuesday 2020 - `day_to_day_comparison` view.\n",
    "  1. Daily."
   ]
  },
  {
   "cell_type": "markdown",
   "metadata": {},
   "source": [
    " # Database update"
   ]
  },
  {
   "cell_type": "code",
   "execution_count": 7,
   "metadata": {},
   "outputs": [],
   "source": [
    "from psycopg2 import connect"
   ]
  },
  {
   "cell_type": "markdown",
   "metadata": {},
   "source": [
    " ## Connection configuration"
   ]
  },
  {
   "cell_type": "code",
   "execution_count": 8,
   "metadata": {},
   "outputs": [],
   "source": [
    "username = 'postgres'\n",
    "password = 'password'\n",
    "\n",
    "host = 'localhost'\n",
    "database = 'airlines'\n",
    "port = 5432"
   ]
  },
  {
   "cell_type": "code",
   "execution_count": 9,
   "metadata": {},
   "outputs": [],
   "source": [
    "con = connect(\n",
    "    user=username,\n",
    "    password=password,\n",
    "    host=host,\n",
    "    database=database,\n",
    "    port=port\n",
    ")\n",
    "\n",
    "cursor = con.cursor()"
   ]
  },
  {
   "cell_type": "markdown",
   "metadata": {},
   "source": [
    "## Loading the `reporting.sql` file\n",
    "  From the `sql` directory, load the `reporting.sql` file"
   ]
  },
  {
   "cell_type": "code",
   "execution_count": 21,
   "metadata": {},
   "outputs": [],
   "source": [
    "with open('../sql/reporting.sql') as f:\n",
    "    data = f.read()"
   ]
  },
  {
   "cell_type": "code",
   "execution_count": 22,
   "metadata": {},
   "outputs": [],
   "source": [
    "queries = data.split(';')"
   ]
  },
  {
   "cell_type": "code",
   "execution_count": 23,
   "metadata": {},
   "outputs": [],
   "source": [
    "for query in queries:\n",
    "    cursor.execute(query)"
   ]
  },
  {
   "cell_type": "code",
   "execution_count": 24,
   "metadata": {},
   "outputs": [],
   "source": [
    "con.commit() "
   ]
  },
  {
   "cell_type": "markdown",
   "metadata": {},
   "source": [
    " ### Checking"
   ]
  },
  {
   "cell_type": "code",
   "execution_count": 27,
   "metadata": {},
   "outputs": [],
   "source": [
    "def check_if_table_exists(table_name):\n",
    "    msg = f\"I check if a table exists {table_name}\"\n",
    "    print(msg)\n",
    "\n",
    "    query = f\"select 1 from {table_name}\"\n",
    "    \n",
    "    cursor.execute(query)\n",
    "    print('OK!')"
   ]
  },
  {
   "cell_type": "code",
   "execution_count": 28,
   "metadata": {},
   "outputs": [],
   "source": [
    "views_to_test = [\n",
    "    'reporting.flight',\n",
    "    'reporting.top_reliability_roads',\n",
    "    'reporting.year_to_year_comparision',\n",
    "    'reporting.day_to_day_comparision',\n",
    "    'reporting.day_by_day_reliability'\n",
    "]"
   ]
  },
  {
   "cell_type": "code",
   "execution_count": 29,
   "metadata": {},
   "outputs": [
    {
     "name": "stdout",
     "output_type": "stream",
     "text": [
      "I check if a table exists reporting.flight\n",
      "OK!\n",
      "I check if a table exists reporting.top_reliability_roads\n",
      "OK!\n",
      "I check if a table exists reporting.year_to_year_comparision\n",
      "OK!\n",
      "I check if a table exists reporting.day_to_day_comparision\n",
      "OK!\n",
      "I check if a table exists reporting.day_by_day_reliability\n",
      "OK!\n"
     ]
    }
   ],
   "source": [
    "for view in views_to_test:\n",
    "    check_if_table_exists(view)"
   ]
  },
  {
   "cell_type": "code",
   "execution_count": 30,
   "metadata": {},
   "outputs": [
    {
     "name": "stdout",
     "output_type": "stream",
     "text": [
      "Everything looks good :) \n"
     ]
    }
   ],
   "source": [
    "con.close()\n",
    "msg = \"Everything looks good :) \"\n",
    "print(msg)"
   ]
  }
 ],
 "metadata": {
  "kernelspec": {
   "display_name": "Python 3 (ipykernel)",
   "language": "python",
   "name": "python3"
  },
  "language_info": {
   "codemirror_mode": {
    "name": "ipython",
    "version": 3
   },
   "file_extension": ".py",
   "mimetype": "text/x-python",
   "name": "python",
   "nbconvert_exporter": "python",
   "pygments_lexer": "ipython3",
   "version": "3.9.12"
  }
 },
 "nbformat": 4,
 "nbformat_minor": 2
}
